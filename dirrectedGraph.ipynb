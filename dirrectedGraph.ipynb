{
  "nbformat": 4,
  "nbformat_minor": 0,
  "metadata": {
    "colab": {
      "name": "dirrectedGraph.ipynb",
      "provenance": [],
      "authorship_tag": "ABX9TyMsdg/GlfXBa3yzSqmaZMH/",
      "include_colab_link": true
    },
    "kernelspec": {
      "name": "python3",
      "display_name": "Python 3"
    },
    "language_info": {
      "name": "python"
    }
  },
  "cells": [
    {
      "cell_type": "markdown",
      "metadata": {
        "id": "view-in-github",
        "colab_type": "text"
      },
      "source": [
        "<a href=\"https://colab.research.google.com/github/AliMO77/Maven-Gradle-/blob/master/dirrectedGraph.ipynb\" target=\"_parent\"><img src=\"https://colab.research.google.com/assets/colab-badge.svg\" alt=\"Open In Colab\"/></a>"
      ]
    },
    {
      "cell_type": "code",
      "source": [
        "\n",
        "from google.colab import drive\n",
        "drive.mount('/content/drive')"
      ],
      "metadata": {
        "colab": {
          "base_uri": "https://localhost:8080/"
        },
        "id": "EsrGkp2wSYC7",
        "outputId": "592df341-1e30-477a-c8f6-a031008bceb4"
      },
      "execution_count": null,
      "outputs": [
        {
          "output_type": "stream",
          "name": "stdout",
          "text": [
            "Mounted at /content/drive\n"
          ]
        }
      ]
    },
    {
      "cell_type": "code",
      "execution_count": null,
      "metadata": {
        "id": "uU8ecFLPAK-d"
      },
      "outputs": [],
      "source": [
        "#******************* Algorithm \n",
        "# read files \n",
        "# extract PbsTagName tag \n"
      ]
    },
    {
      "cell_type": "code",
      "source": [
        "import os\n",
        "from bs4 import BeautifulSoup\n",
        "directory = \"/content/drive/MyDrive/PaulWurth/fff/RXTfiles\" ##files path\n",
        "\n",
        "\n",
        "for filename in os.listdir(directory):\n",
        "   with open(os.path.join(directory, filename), 'r') as f:\n",
        "       text = f.read()\n",
        "       bs_data = BeautifulSoup(text, 'xml')\n",
        "       tag_name = bs_data.find('Property', {'Name':'PbsTagName'})\n",
        "       Rule_name = bs_data.find('Property', {'Name':'PbsTagName'})\n",
        "       tag =tag_name.get('Value')    \n",
        "       rule = Rule_name.get('Value')\n",
        "       print(tag+' / '+rule)\n",
        "\n"
      ],
      "metadata": {
        "colab": {
          "base_uri": "https://localhost:8080/"
        },
        "id": "FQ3i3BL5idkj",
        "outputId": "4fdf350f-b351-49cc-93d6-11a6609b3c56"
      },
      "execution_count": null,
      "outputs": [
        {
          "output_type": "stream",
          "name": "stdout",
          "text": [
            "scp_charging_time / scp_charging_time\n",
            "scp_charging_time / scp_charging_time\n",
            "scp_charging_time / scp_charging_time\n"
          ]
        }
      ]
    }
  ]
}