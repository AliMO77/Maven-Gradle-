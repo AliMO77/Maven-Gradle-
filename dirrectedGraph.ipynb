{
  "nbformat": 4,
  "nbformat_minor": 0,
  "metadata": {
    "colab": {
      "name": "dirrectedGraph.ipynb",
      "provenance": [],
      "authorship_tag": "ABX9TyNvxHwzAhGPacVTV1KOvbW0",
      "include_colab_link": true
    },
    "kernelspec": {
      "name": "python3",
      "display_name": "Python 3"
    },
    "language_info": {
      "name": "python"
    }
  },
  "cells": [
    {
      "cell_type": "markdown",
      "metadata": {
        "id": "view-in-github",
        "colab_type": "text"
      },
      "source": [
        "<a href=\"https://colab.research.google.com/github/AliMO77/Maven-Gradle-/blob/master/dirrectedGraph.ipynb\" target=\"_parent\"><img src=\"https://colab.research.google.com/assets/colab-badge.svg\" alt=\"Open In Colab\"/></a>"
      ]
    },
    {
      "cell_type": "code",
      "source": [
        "\n",
        "from google.colab import drive\n",
        "drive.mount('/content/drive')"
      ],
      "metadata": {
        "colab": {
          "base_uri": "https://localhost:8080/"
        },
        "id": "EsrGkp2wSYC7",
        "outputId": "f18e3616-dec2-4b8c-cdf9-2646ed3adc21"
      },
      "execution_count": 1,
      "outputs": [
        {
          "output_type": "stream",
          "name": "stdout",
          "text": [
            "Mounted at /content/drive\n"
          ]
        }
      ]
    },
    {
      "cell_type": "code",
      "source": [
        "import os\n",
        "import numpy as np\n",
        "from bs4 import BeautifulSoup\n",
        "import networkx as nx\n",
        "import matplotlib.pyplot as plt\n",
        "import seaborn as sn\n",
        "import math \n",
        "directory = \"/content/drive/MyDrive/PaulWurth/fff/RXTfiles\" ##files path\n",
        "\n",
        "def add_values_in_dict(sample_dict, key, list_of_values):\n",
        "    if key not in sample_dict:\n",
        "        sample_dict[key] = list()\n",
        "    sample_dict[key].extend([list_of_values])\n",
        "    return sample_dict\n",
        "\n",
        "\n",
        "input_dict = {}\n",
        "output_dict = {}\n",
        "\n",
        "rules = []\n",
        "all_inputs = []\n",
        "all_outputs = []\n",
        "\n",
        "all_input_outputs = []\n",
        "\n",
        "for filename in os.listdir(directory):\n",
        "   with open(os.path.join(directory, filename), 'r') as f:\n",
        "       try :\n",
        "        \n",
        "         ############# find rule name, input and output tag/s\n",
        "          text = f.read()\n",
        "          bs_data = BeautifulSoup(text, 'xml')\n",
        "         \n",
        "          rule = bs_data.find('RuleProject')\n",
        "          rule_name = rule.get('StartRuleSet').replace(' ','')\n",
        "          rules.append(rule_name)\n",
        "\n",
        "          inputtag_names = bs_data.findAll('InputProperties')\n",
        "          out\n",
        "          puttag_name = bs_data.findAll('OutputProperties')\n",
        "\n",
        "          for i in range(len(inputtag_names)):\n",
        "            inputs = inputtag_names[i].find_all('Property', {'Name':'TagId'})[0].get('Value').replace('Data_Acquisition_DB\\\\','')\n",
        "            add_values_in_dict(input_dict, rule_name, inputs)\n",
        "            all_inputs.append(inputs)\n",
        "\n",
        "          \n",
        "          for i in range(len(outputtag_name)):\n",
        "            outputs = outputtag_name[i].find_all('Property', {'Name':'TagId'})[0].get('Value')\n",
        "            add_values_in_dict(output_dict, rule_name, outputs)            \n",
        "            all_outputs.append(outputs)\n",
        "          \n",
        "     \n",
        "       except Exception as e :\n",
        "          pass\n",
        "rules"
      ],
      "metadata": {
        "id": "ZQiRdyhp-dyc",
        "outputId": "457c43dd-1149-4fbc-80d8-40ccaa7167b9",
        "colab": {
          "base_uri": "https://localhost:8080/"
        }
      },
      "execution_count": 2,
      "outputs": [
        {
          "output_type": "execute_result",
          "data": {
            "text/plain": [
              "['scp_charging_plate_max_stroke', 'scp_max_weight_corrected']"
            ]
          },
          "metadata": {},
          "execution_count": 2
        }
      ]
    },
    {
      "cell_type": "code",
      "source": [
        "G = nx.DiGraph()\n",
        "\n",
        "\n",
        "for i in input_dict :\n",
        "    for j in range( len(input_dict[i])):\n",
        "      G.add_edge(input_dict[i][j],i)\n",
        "      \n",
        "\n",
        "for i in output_dict :\n",
        "    for j in range( len(output_dict[i])):\n",
        "      G.add_edge(i,output_dict[i][j])\n",
        "\n",
        "\n",
        "node_sizes = []\n",
        "color_map = []\n",
        "edgecolor = []\n",
        "edge_colors = []\n",
        "\n",
        "for node in G:\n",
        "    if node  in rules:\n",
        "        color_map.append('orange')\n",
        "        edgecolor.append('red')\n",
        "        node_sizes.append(20000)\n",
        "             \n",
        "    \n",
        "    elif node  in all_inputs: \n",
        "        color_map.append('lightgray') \n",
        "        edgecolor.append('black')\n",
        "        node_sizes.append(10000)\n",
        "        \n",
        "\n",
        "    elif node  in all_outputs: \n",
        "        color_map.append('lightgreen')\n",
        "        edgecolor.append('black')\n",
        "        node_sizes.append(5000)\n",
        "    \n",
        "    elif node  in all_input_outputs:\n",
        "        color_map.append('lightblue')\n",
        "        edgecolor.append('red')\n",
        "        node_sizes.append(20000)\n",
        "        \n",
        "\n",
        "pos = nx.spring_layout(G, scale=4,k=300/math.sqrt(G.order()))\n",
        "\n",
        "\n",
        "plt.figure()\n",
        "plt.subplots(figsize=(110,40))\n",
        "plt.subplot(2, 2, 4)\n",
        "nx.draw_networkx(G,pos,node_color=color_map,node_size=node_sizes,width=6,edgecolors=edgecolor,edge_color='gray')"
      ],
      "metadata": {
        "id": "-Y67K_Ai-gsf"
      },
      "execution_count": null,
      "outputs": []
    }
  ]
}